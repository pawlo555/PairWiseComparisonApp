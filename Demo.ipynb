{
 "cells": [
  {
   "cell_type": "code",
   "execution_count": 221,
   "metadata": {},
   "outputs": [],
   "source": [
    "import numpy as np\n",
    "import pandas as pd\n",
    "import requests\n",
    "import itertools"
   ]
  },
  {
   "cell_type": "markdown",
   "metadata": {},
   "source": [
    "# Wybór najlepszego filmu"
   ]
  },
  {
   "cell_type": "markdown",
   "metadata": {},
   "source": [
    "## API filmowe\n",
    "\n",
    "Wykorzystamy IMDb API do pobrania informacji o filmach"
   ]
  },
  {
   "cell_type": "code",
   "execution_count": 2,
   "metadata": {},
   "outputs": [],
   "source": [
    "api_key = '63a56440'\n",
    "url = f'http://www.omdbapi.com/?apikey={api_key}'\n",
    "params = {\"t\":\"\", \"plot\": \"short\", \"r\":\"json\"}"
   ]
  },
  {
   "cell_type": "code",
   "execution_count": 3,
   "metadata": {},
   "outputs": [],
   "source": [
    "def fetch_movies(movies):\n",
    "    movies_data = {}\n",
    "    for movie in movies:\n",
    "        params[\"t\"] = movie\n",
    "        response = requests.get(url, params=params).json()\n",
    "        movies_data[movie] = response\n",
    "    return movies_data"
   ]
  },
  {
   "cell_type": "markdown",
   "metadata": {},
   "source": [
    "## Zapytanie użytkownika o filmy\n",
    "\n",
    "Poprosimy użytkownika aby podał interesujące go filmy a następnie aby podał kryteria według których chce oceniać filmy"
   ]
  },
  {
   "cell_type": "code",
   "execution_count": 12,
   "metadata": {},
   "outputs": [
    {
     "name": "stdout",
     "output_type": "stream",
     "text": [
      "Please enter a movie title to compare. When you finish press enter.\n",
      "\n",
      "Harry Potter\n",
      "Avengers\n",
      "Duna\n",
      "\n"
     ]
    }
   ],
   "source": [
    "value = None\n",
    "movies = []\n",
    "\n",
    "print(\"Please enter a movie title to compare. When you finish press enter.\\n\")\n",
    "\n",
    "while value != '':\n",
    "    value = input()\n",
    "    if value != '':\n",
    "        movies.append(value)\n",
    "\n",
    "movies_data = fetch_movies(movies)"
   ]
  },
  {
   "cell_type": "code",
   "execution_count": 13,
   "metadata": {
    "scrolled": true
   },
   "outputs": [
    {
     "name": "stdout",
     "output_type": "stream",
     "text": [
      "1. Year\n",
      "2. Rated\n",
      "3. Released\n",
      "4. Runtime\n",
      "5. Genre\n",
      "6. Director\n",
      "7. Writer\n",
      "8. Actors\n",
      "9. Plot\n",
      "10. Language\n",
      "11. Country\n",
      "12. Awards\n",
      "13. Poster\n",
      "14. Ratings\n",
      "15. Metascore\n",
      "16. imdbRating\n",
      "17. imdbVotes\n",
      "18. imdbID\n",
      "19. Type\n",
      "20. DVD\n",
      "21. BoxOffice\n",
      "22. Production\n",
      "23. Website\n",
      "24. Response\n",
      "\n",
      "Please enter a criteria number to compare. When you finish press enter.\n",
      "\n",
      "8\n",
      "12\n",
      "16\n",
      "\n"
     ]
    }
   ],
   "source": [
    "criteria = list(movies_data[movies[0]].keys())\n",
    "\n",
    "for index, criterium in enumerate(criteria[1:]):\n",
    "    print(f'{index + 1}. {criterium}')\n",
    "\n",
    "value = None\n",
    "chosen_criteria = []\n",
    "\n",
    "print(\"\\nPlease enter a criteria number to compare. When you finish press enter.\\n\")\n",
    "\n",
    "while value != '':\n",
    "    value = input()\n",
    "    if value != '':\n",
    "        chosen_criteria.append(criteria[int(value)])"
   ]
  },
  {
   "cell_type": "markdown",
   "metadata": {},
   "source": [
    "## Tworzenie par porównań\n",
    "\n",
    "Następnym krokiem będzie utworzenie par do porównania dla użytkownika"
   ]
  },
  {
   "cell_type": "code",
   "execution_count": 14,
   "metadata": {},
   "outputs": [
    {
     "name": "stdout",
     "output_type": "stream",
     "text": [
      "Movies pairs:  [('Harry Potter', 'Avengers'), ('Harry Potter', 'Duna'), ('Avengers', 'Duna')]\n",
      "\n",
      "Criteria pairs:  [('Actors', 'Awards'), ('Actors', 'imdbRating'), ('Awards', 'imdbRating')]\n"
     ]
    }
   ],
   "source": [
    "movies_pairs = list(itertools.combinations(movies, 2))\n",
    "criteria_pairs = list(itertools.combinations(chosen_criteria, 2))\n",
    "\n",
    "print(\"Movies pairs: \", movies_pairs)\n",
    "print(\"\\nCriteria pairs: \", criteria_pairs)"
   ]
  },
  {
   "cell_type": "markdown",
   "metadata": {},
   "source": [
    "## Zebranie porównań od użytkownika\n",
    "\n",
    "Poprosimy użytkownika aby ocenił każdą parę filmów wg. wybranych przez niego kryteriów. We wsparciu wyboru wyświelimy użykownikowi informacje dotyczące danego filmu."
   ]
  },
  {
   "cell_type": "code",
   "execution_count": 194,
   "metadata": {},
   "outputs": [
    {
     "name": "stdout",
     "output_type": "stream",
     "text": [
      "['Actors', 'Awards', 'imdbRating']\n",
      "\n",
      "Criterium: Actors\n",
      "    Harry Potter: Daniel Radcliffe, Emma Watson, Rupert Grint\n",
      "    Avengers: Linda Ballantyne, Tony Daniels, Ron Rubin\n",
      " Compare first to second:\n",
      "2\n",
      "\n",
      "Criterium: Actors\n",
      "    Harry Potter: Daniel Radcliffe, Emma Watson, Rupert Grint\n",
      "    Duna: Talis Talivaldis Abolins, Maya Arwen, Kaspars Dumburs\n",
      " Compare first to second:\n",
      "2\n",
      "\n",
      "Criterium: Actors\n",
      "    Avengers: Linda Ballantyne, Tony Daniels, Ron Rubin\n",
      "    Duna: Talis Talivaldis Abolins, Maya Arwen, Kaspars Dumburs\n",
      " Compare first to second:\n",
      "0.5\n",
      "\n",
      "Criterium: Awards\n",
      "    Harry Potter: Nominated for 3 Oscars. 46 wins & 94 nominations total\n",
      "    Avengers: N/A\n",
      " Compare first to second:\n",
      "9\n",
      "\n",
      "Criterium: Awards\n",
      "    Harry Potter: Nominated for 3 Oscars. 46 wins & 94 nominations total\n",
      "    Duna: N/A\n",
      " Compare first to second:\n",
      "5\n",
      "\n",
      "Criterium: Awards\n",
      "    Avengers: N/A\n",
      "    Duna: N/A\n",
      " Compare first to second:\n",
      "0.5\n",
      "\n",
      "Criterium: imdbRating\n",
      "    Harry Potter: 8.1\n",
      "    Avengers: 5.5\n",
      " Compare first to second:\n",
      "6\n",
      "\n",
      "Criterium: imdbRating\n",
      "    Harry Potter: 8.1\n",
      "    Duna: N/A\n",
      " Compare first to second:\n",
      "9\n",
      "\n",
      "Criterium: imdbRating\n",
      "    Avengers: 5.5\n",
      "    Duna: N/A\n",
      " Compare first to second:\n",
      "5\n"
     ]
    }
   ],
   "source": [
    "movies_matrices = [pd.DataFrame(columns=movies, index=movies) for _ in range(len(chosen_criteria))]\n",
    "criteria_matrices = pd.DataFrame(columns=chosen_criteria, index=chosen_criteria)\n",
    "print(chosen_criteria)\n",
    "\n",
    "for i, criterium in enumerate(chosen_criteria):\n",
    "    matrix = movies_matrices[i]\n",
    "    np.fill_diagonal(matrix.values, 1)\n",
    "    for pair in movies_pairs:\n",
    "        val =  float(input(f'\\nCriterium: {criterium}\\n    {pair[0]}: {movies_data[pair[0]][criterium]}\\n    {pair[1]}: {movies_data[pair[1]][criterium]}\\n Compare first to second:\\n'))\n",
    "        matrix[pair[0]][pair[1]] = val\n",
    "        matrix[pair[1]][pair[0]] = 1/val\n"
   ]
  },
  {
   "cell_type": "markdown",
   "metadata": {},
   "source": [
    "## Porównywanie parami kryteriów"
   ]
  },
  {
   "cell_type": "code",
   "execution_count": 209,
   "metadata": {},
   "outputs": [
    {
     "name": "stdout",
     "output_type": "stream",
     "text": [
      "Rate importance: Actors to Awards:\n",
      "0.5\n",
      "Rate importance: Actors to imdbRating:\n",
      "0.4\n",
      "Rate importance: Awards to imdbRating:\n",
      "0.5\n"
     ]
    }
   ],
   "source": [
    "np.fill_diagonal(criteria_matrices.values, 1)\n",
    "for pair in criteria_pairs:\n",
    "    val =  float(input(f'Rate importance: {pair[0]} to {pair[1]}:\\n'))\n",
    "    criteria_matrices[pair[0]][pair[1]] = val\n",
    "    criteria_matrices[pair[1]][pair[0]] = 1/val"
   ]
  },
  {
   "cell_type": "markdown",
   "metadata": {},
   "source": [
    "# EVM ranking method\n",
    "\n",
    "W tej części będziemy wizualizować kroki i wyniki procesu decyzyjnego <br>\n",
    "Zaczniemy od zdefiniowania metody EVM i utworzenia macierzy z danymi"
   ]
  },
  {
   "cell_type": "code",
   "execution_count": 210,
   "metadata": {},
   "outputs": [],
   "source": [
    "def count_evm(preferences: np.ndarray) -> np.ndarray:\n",
    "    preferences = preferences.T\n",
    "    n = preferences.shape[-1]\n",
    "    geometric_average = np.prod(preferences, axis=-1)**(1/n)\n",
    "    return geometric_average / np.sum(geometric_average)"
   ]
  },
  {
   "cell_type": "code",
   "execution_count": 211,
   "metadata": {},
   "outputs": [],
   "source": [
    "priorities = pd.DataFrame(columns=movies, index=chosen_criteria)\n",
    "criteria_importance = pd.DataFrame(columns=chosen_criteria)"
   ]
  },
  {
   "cell_type": "code",
   "execution_count": 212,
   "metadata": {},
   "outputs": [
    {
     "data": {
      "text/html": [
       "<div>\n",
       "<style scoped>\n",
       "    .dataframe tbody tr th:only-of-type {\n",
       "        vertical-align: middle;\n",
       "    }\n",
       "\n",
       "    .dataframe tbody tr th {\n",
       "        vertical-align: top;\n",
       "    }\n",
       "\n",
       "    .dataframe thead th {\n",
       "        text-align: right;\n",
       "    }\n",
       "</style>\n",
       "<table border=\"1\" class=\"dataframe\">\n",
       "  <thead>\n",
       "    <tr style=\"text-align: right;\">\n",
       "      <th></th>\n",
       "      <th>Actors</th>\n",
       "      <th>Awards</th>\n",
       "      <th>imdbRating</th>\n",
       "    </tr>\n",
       "  </thead>\n",
       "  <tbody>\n",
       "    <tr>\n",
       "      <th>Actors</th>\n",
       "      <td>1</td>\n",
       "      <td>2</td>\n",
       "      <td>2.5</td>\n",
       "    </tr>\n",
       "    <tr>\n",
       "      <th>Awards</th>\n",
       "      <td>0.5</td>\n",
       "      <td>1</td>\n",
       "      <td>2</td>\n",
       "    </tr>\n",
       "    <tr>\n",
       "      <th>imdbRating</th>\n",
       "      <td>0.4</td>\n",
       "      <td>0.5</td>\n",
       "      <td>1</td>\n",
       "    </tr>\n",
       "  </tbody>\n",
       "</table>\n",
       "</div>"
      ],
      "text/plain": [
       "           Actors Awards imdbRating\n",
       "Actors          1      2        2.5\n",
       "Awards        0.5      1          2\n",
       "imdbRating    0.4    0.5          1"
      ]
     },
     "execution_count": 212,
     "metadata": {},
     "output_type": "execute_result"
    }
   ],
   "source": [
    "criteria_matrices"
   ]
  },
  {
   "cell_type": "markdown",
   "metadata": {},
   "source": [
    "Wykorzystamy metodę EVM do policzenia wag dla każdego filmu dla wybranych przez użytkownika kategorii"
   ]
  },
  {
   "cell_type": "code",
   "execution_count": 213,
   "metadata": {},
   "outputs": [],
   "source": [
    "criteria_priorities = pd.DataFrame(columns=chosen_criteria)\n",
    "criteria_priorities.loc[0] = count_evm(criteria_matrices.to_numpy())\n",
    "criteria_priorities = criteria_priorities.rename(index={0: \"priority\"})\n",
    "\n",
    "comparison_priorities = pd.DataFrame(columns=chosen_criteria, index=movies)\n",
    "for i, criterium in enumerate(chosen_criteria):\n",
    "    matrix = movies_matrices[i]\n",
    "    comparison_priorities[criterium] = count_evm(matrix.to_numpy())"
   ]
  },
  {
   "cell_type": "code",
   "execution_count": 214,
   "metadata": {},
   "outputs": [
    {
     "data": {
      "text/html": [
       "<div>\n",
       "<style scoped>\n",
       "    .dataframe tbody tr th:only-of-type {\n",
       "        vertical-align: middle;\n",
       "    }\n",
       "\n",
       "    .dataframe tbody tr th {\n",
       "        vertical-align: top;\n",
       "    }\n",
       "\n",
       "    .dataframe thead th {\n",
       "        text-align: right;\n",
       "    }\n",
       "</style>\n",
       "<table border=\"1\" class=\"dataframe\">\n",
       "  <thead>\n",
       "    <tr style=\"text-align: right;\">\n",
       "      <th></th>\n",
       "      <th>Actors</th>\n",
       "      <th>Awards</th>\n",
       "      <th>imdbRating</th>\n",
       "    </tr>\n",
       "  </thead>\n",
       "  <tbody>\n",
       "    <tr>\n",
       "      <th>Harry Potter</th>\n",
       "      <td>0.493386</td>\n",
       "      <td>0.760789</td>\n",
       "      <td>0.755659</td>\n",
       "    </tr>\n",
       "    <tr>\n",
       "      <th>Avengers</th>\n",
       "      <td>0.1958</td>\n",
       "      <td>0.0816148</td>\n",
       "      <td>0.188134</td>\n",
       "    </tr>\n",
       "    <tr>\n",
       "      <th>Duna</th>\n",
       "      <td>0.310814</td>\n",
       "      <td>0.157596</td>\n",
       "      <td>0.056207</td>\n",
       "    </tr>\n",
       "  </tbody>\n",
       "</table>\n",
       "</div>"
      ],
      "text/plain": [
       "                Actors     Awards imdbRating\n",
       "Harry Potter  0.493386   0.760789   0.755659\n",
       "Avengers        0.1958  0.0816148   0.188134\n",
       "Duna          0.310814   0.157596   0.056207"
      ]
     },
     "execution_count": 214,
     "metadata": {},
     "output_type": "execute_result"
    }
   ],
   "source": [
    "comparison_priorities"
   ]
  },
  {
   "cell_type": "code",
   "execution_count": 215,
   "metadata": {},
   "outputs": [
    {
     "data": {
      "text/html": [
       "<div>\n",
       "<style scoped>\n",
       "    .dataframe tbody tr th:only-of-type {\n",
       "        vertical-align: middle;\n",
       "    }\n",
       "\n",
       "    .dataframe tbody tr th {\n",
       "        vertical-align: top;\n",
       "    }\n",
       "\n",
       "    .dataframe thead th {\n",
       "        text-align: right;\n",
       "    }\n",
       "</style>\n",
       "<table border=\"1\" class=\"dataframe\">\n",
       "  <thead>\n",
       "    <tr style=\"text-align: right;\">\n",
       "      <th></th>\n",
       "      <th>Actors</th>\n",
       "      <th>Awards</th>\n",
       "      <th>imdbRating</th>\n",
       "    </tr>\n",
       "  </thead>\n",
       "  <tbody>\n",
       "    <tr>\n",
       "      <th>priority</th>\n",
       "      <td>0.177494</td>\n",
       "      <td>0.30351</td>\n",
       "      <td>0.518996</td>\n",
       "    </tr>\n",
       "  </tbody>\n",
       "</table>\n",
       "</div>"
      ],
      "text/plain": [
       "            Actors   Awards  imdbRating\n",
       "priority  0.177494  0.30351    0.518996"
      ]
     },
     "execution_count": 215,
     "metadata": {},
     "output_type": "execute_result"
    }
   ],
   "source": [
    "criteria_priorities"
   ]
  },
  {
   "cell_type": "markdown",
   "metadata": {},
   "source": [
    "Dalej przedstawimy znormalizowane wyniki, możemy teraz łatwo porównywać wartości z różnych wierszy tabeli."
   ]
  },
  {
   "cell_type": "code",
   "execution_count": 216,
   "metadata": {},
   "outputs": [
    {
     "data": {
      "text/html": [
       "<div>\n",
       "<style scoped>\n",
       "    .dataframe tbody tr th:only-of-type {\n",
       "        vertical-align: middle;\n",
       "    }\n",
       "\n",
       "    .dataframe tbody tr th {\n",
       "        vertical-align: top;\n",
       "    }\n",
       "\n",
       "    .dataframe thead th {\n",
       "        text-align: right;\n",
       "    }\n",
       "</style>\n",
       "<table border=\"1\" class=\"dataframe\">\n",
       "  <thead>\n",
       "    <tr style=\"text-align: right;\">\n",
       "      <th></th>\n",
       "      <th>Actors</th>\n",
       "      <th>Awards</th>\n",
       "      <th>imdbRating</th>\n",
       "    </tr>\n",
       "  </thead>\n",
       "  <tbody>\n",
       "    <tr>\n",
       "      <th>Harry Potter</th>\n",
       "      <td>0.087573</td>\n",
       "      <td>0.230907</td>\n",
       "      <td>0.392184</td>\n",
       "    </tr>\n",
       "    <tr>\n",
       "      <th>Avengers</th>\n",
       "      <td>0.0347534</td>\n",
       "      <td>0.024771</td>\n",
       "      <td>0.0976408</td>\n",
       "    </tr>\n",
       "    <tr>\n",
       "      <th>Duna</th>\n",
       "      <td>0.0551676</td>\n",
       "      <td>0.0478322</td>\n",
       "      <td>0.0291712</td>\n",
       "    </tr>\n",
       "  </tbody>\n",
       "</table>\n",
       "</div>"
      ],
      "text/plain": [
       "                 Actors     Awards imdbRating\n",
       "Harry Potter   0.087573   0.230907   0.392184\n",
       "Avengers      0.0347534   0.024771  0.0976408\n",
       "Duna          0.0551676  0.0478322  0.0291712"
      ]
     },
     "execution_count": 216,
     "metadata": {},
     "output_type": "execute_result"
    }
   ],
   "source": [
    "for criterium in chosen_criteria:  \n",
    "    comparison_priorities[criterium] = comparison_priorities[criterium].values * criteria_priorities[criterium].values\n",
    "comparison_priorities"
   ]
  },
  {
   "cell_type": "markdown",
   "metadata": {},
   "source": [
    "### Wyniki\n",
    "Ostatecznie pokażemy ranking filmów powstały na podstawie decyzji użytkownika"
   ]
  },
  {
   "cell_type": "code",
   "execution_count": 217,
   "metadata": {},
   "outputs": [
    {
     "data": {
      "text/html": [
       "<div>\n",
       "<style scoped>\n",
       "    .dataframe tbody tr th:only-of-type {\n",
       "        vertical-align: middle;\n",
       "    }\n",
       "\n",
       "    .dataframe tbody tr th {\n",
       "        vertical-align: top;\n",
       "    }\n",
       "\n",
       "    .dataframe thead th {\n",
       "        text-align: right;\n",
       "    }\n",
       "</style>\n",
       "<table border=\"1\" class=\"dataframe\">\n",
       "  <thead>\n",
       "    <tr style=\"text-align: right;\">\n",
       "      <th></th>\n",
       "      <th>Actors</th>\n",
       "      <th>Awards</th>\n",
       "      <th>imdbRating</th>\n",
       "      <th>Goal</th>\n",
       "    </tr>\n",
       "  </thead>\n",
       "  <tbody>\n",
       "    <tr>\n",
       "      <th>Harry Potter</th>\n",
       "      <td>0.087573</td>\n",
       "      <td>0.230907</td>\n",
       "      <td>0.392184</td>\n",
       "      <td>0.710664</td>\n",
       "    </tr>\n",
       "    <tr>\n",
       "      <th>Avengers</th>\n",
       "      <td>0.0347534</td>\n",
       "      <td>0.024771</td>\n",
       "      <td>0.0976408</td>\n",
       "      <td>0.157165</td>\n",
       "    </tr>\n",
       "    <tr>\n",
       "      <th>Duna</th>\n",
       "      <td>0.0551676</td>\n",
       "      <td>0.0478322</td>\n",
       "      <td>0.0291712</td>\n",
       "      <td>0.132171</td>\n",
       "    </tr>\n",
       "  </tbody>\n",
       "</table>\n",
       "</div>"
      ],
      "text/plain": [
       "                 Actors     Awards imdbRating      Goal\n",
       "Harry Potter   0.087573   0.230907   0.392184  0.710664\n",
       "Avengers      0.0347534   0.024771  0.0976408  0.157165\n",
       "Duna          0.0551676  0.0478322  0.0291712  0.132171"
      ]
     },
     "execution_count": 217,
     "metadata": {},
     "output_type": "execute_result"
    }
   ],
   "source": [
    "comparison_priorities[\"Goal\"] = comparison_priorities.sum(axis=1)\n",
    "comparison_priorities"
   ]
  },
  {
   "cell_type": "markdown",
   "metadata": {},
   "source": [
    "### Walidacja wyników\n",
    "\n",
    "W celu walidacji możemy obliczyć Consistency Ratio (CR) dla każdej macierzy porównań, wartość mniejszą od 0.1 możemy uznać za satysfakcjnonującą\n"
   ]
  },
  {
   "cell_type": "code",
   "execution_count": 218,
   "metadata": {},
   "outputs": [],
   "source": [
    "RI = {1: 10**-8, 2: 10**-8, 3: 0.58, 4: 0.9, 5: 1.12, 6: 1.21, 7: 1.32, 8: 1.41, 9: 1.46, 10: 1.49}\n",
    "\n",
    "def calc_consistency_ratio(preferences: np.ndarray, evm_ranking: np.ndarray) -> float:\n",
    "    preferences = preferences.T\n",
    "    n = preferences.shape[-1]\n",
    "    cv = np.matmul(preferences, evm_ranking.T)\n",
    "    cv_lambda = np.sum(cv)\n",
    "    ci = (cv_lambda - n) / (n-1)\n",
    "    return ci / RI[n]"
   ]
  },
  {
   "cell_type": "code",
   "execution_count": 219,
   "metadata": {},
   "outputs": [
    {
     "name": "stdout",
     "output_type": "stream",
     "text": [
      "0.021202645365081926\n"
     ]
    }
   ],
   "source": [
    "print(calc_consistency_ratio(criteria_matrices.to_numpy(), criteria_priorities.to_numpy()))"
   ]
  },
  {
   "cell_type": "code",
   "execution_count": null,
   "metadata": {},
   "outputs": [],
   "source": []
  }
 ],
 "metadata": {
  "kernelspec": {
   "display_name": "Python 3",
   "language": "python",
   "name": "python3"
  },
  "language_info": {
   "codemirror_mode": {
    "name": "ipython",
    "version": 3
   },
   "file_extension": ".py",
   "mimetype": "text/x-python",
   "name": "python",
   "nbconvert_exporter": "python",
   "pygments_lexer": "ipython3",
   "version": "3.8.5"
  }
 },
 "nbformat": 4,
 "nbformat_minor": 4
}
