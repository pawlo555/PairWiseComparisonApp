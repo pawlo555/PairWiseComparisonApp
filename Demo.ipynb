{
 "cells": [
  {
   "cell_type": "markdown",
   "metadata": {},
   "source": [
    "# TODO\n",
    "- ładnie opisać co się dzieje\n",
    "- ładnie na funkcje podzielić i refactor ogólnie\n",
    "- obsługa inputu",
    "- obsługa plakatów <3"
   ]
  },
  {
   "cell_type": "code",
   "execution_count": 177,
   "metadata": {},
   "outputs": [],
   "source": [
    "import numpy as np\n",
    "import pandas as pd\n",
    "import requests\n",
    "import itertools"
   ]
  },
  {
   "cell_type": "markdown",
   "metadata": {},
   "source": [
    "## Move API"
   ]
  },
  {
   "cell_type": "code",
   "execution_count": 178,
   "metadata": {},
   "outputs": [],
   "source": [
    "api_key = '63a56440'\n",
    "url = f'http://www.omdbapi.com/?apikey={api_key}'\n",
    "params = {\"t\":\"\", \"plot\": \"short\", \"r\":\"json\"}"
   ]
  },
  {
   "cell_type": "code",
   "execution_count": 179,
   "metadata": {},
   "outputs": [],
   "source": [
    "def fetch_movies(movies):\n",
    "    movies_data = {}\n",
    "    for movie in movies:\n",
    "        params[\"t\"] = movie\n",
    "        response = requests.get(url, params=params).json()\n",
    "        movies_data[movie] = response\n",
    "    return movies_data"
   ]
  },
  {
   "cell_type": "markdown",
   "metadata": {},
   "source": [
    "## Get input from user"
   ]
  },
  {
   "cell_type": "code",
   "execution_count": 180,
   "metadata": {},
   "outputs": [
    {
     "name": "stdout",
     "output_type": "stream",
     "text": [
      "Please enter a movie title to compare. When you finish press enter.\n",
      "\n",
      "die hard\n",
      "interstellar\n",
      "love actually\n",
      "\n"
     ]
    }
   ],
   "source": [
    "value = None\n",
    "movies = []\n",
    "\n",
    "print(\"Please enter a movie title to compare. When you finish press enter.\\n\")\n",
    "\n",
    "while value != '':\n",
    "    value = input()\n",
    "    if value != '':\n",
    "        movies.append(value)\n",
    "\n",
    "movies_data = fetch_movies(movies)"
   ]
  },
  {
   "cell_type": "code",
   "execution_count": 185,
   "metadata": {},
   "outputs": [
    {
     "name": "stdout",
     "output_type": "stream",
     "text": [
      "1. Year\n",
      "2. Rated\n",
      "3. Released\n",
      "4. Runtime\n",
      "5. Genre\n",
      "6. Director\n",
      "7. Writer\n",
      "8. Actors\n",
      "9. Plot\n",
      "10. Language\n",
      "11. Country\n",
      "12. Awards\n",
      "13. Poster\n",
      "14. Ratings\n",
      "15. Metascore\n",
      "16. imdbRating\n",
      "17. imdbVotes\n",
      "18. imdbID\n",
      "19. Type\n",
      "20. DVD\n",
      "21. BoxOffice\n",
      "22. Production\n",
      "23. Website\n",
      "24. Response\n",
      "\n",
      "Please enter a criteria number to compare. When you finish press enter.\n",
      "\n",
      "8\n",
      "12\n",
      "17\n",
      "\n"
     ]
    }
   ],
   "source": [
    "criteria = list(movies_data[movies[0]].keys())\n",
    "\n",
    "for index, criterium in enumerate(criteria[1:]):\n",
    "    print(f'{index + 1}. {criterium}')\n",
    "\n",
    "value = None\n",
    "chosen_criteria = []\n",
    "\n",
    "print(\"\\nPlease enter a criteria number to compare. When you finish press enter.\\n\")\n",
    "\n",
    "while value != '':\n",
    "    value = input()\n",
    "    if value != '':\n",
    "        chosen_criteria.append(criteria[int(value)])"
   ]
  },
  {
   "cell_type": "markdown",
   "metadata": {},
   "source": [
    "## Create pairs to compare"
   ]
  },
  {
   "cell_type": "code",
   "execution_count": 186,
   "metadata": {},
   "outputs": [
    {
     "name": "stdout",
     "output_type": "stream",
     "text": [
      "Movies pairs:  [('die hard', 'interstellar'), ('die hard', 'love actually'), ('interstellar', 'love actually')]\n",
      "\n",
      "Criteria pairs:  [('Actors', 'Awards'), ('Actors', 'imdbVotes'), ('Awards', 'imdbVotes')]\n"
     ]
    }
   ],
   "source": [
    "movies_pairs = list(itertools.combinations(movies, 2))\n",
    "criteria_pairs = list(itertools.combinations(chosen_criteria, 2))\n",
    "\n",
    "print(\"Movies pairs: \", movies_pairs)\n",
    "print(\"\\nCriteria pairs: \", criteria_pairs)"
   ]
  },
  {
   "cell_type": "markdown",
   "metadata": {},
   "source": [
    "## User rating movies"
   ]
  },
  {
   "cell_type": "code",
   "execution_count": 187,
   "metadata": {},
   "outputs": [
    {
     "name": "stdout",
     "output_type": "stream",
     "text": [
      "\n",
      "Criterium: Actors\n",
      "    die hard: Bruce Willis, Alan Rickman, Bonnie Bedelia\n",
      "    interstellar: Matthew McConaughey, Anne Hathaway, Jessica Chastain\n",
      " Compare first to second:\n",
      "2\n",
      "\n",
      "Criterium: Actors\n",
      "    die hard: Bruce Willis, Alan Rickman, Bonnie Bedelia\n",
      "    love actually: Hugh Grant, Martine McCutcheon, Liam Neeson\n",
      " Compare first to second:\n",
      "1\n",
      "\n",
      "Criterium: Actors\n",
      "    interstellar: Matthew McConaughey, Anne Hathaway, Jessica Chastain\n",
      "    love actually: Hugh Grant, Martine McCutcheon, Liam Neeson\n",
      " Compare first to second:\n",
      "0.3\n",
      "\n",
      "Criterium: Awards\n",
      "    die hard: Nominated for 4 Oscars. 8 wins & 6 nominations total\n",
      "    interstellar: Won 1 Oscar. 44 wins & 148 nominations total\n",
      " Compare first to second:\n",
      "0.1\n",
      "\n",
      "Criterium: Awards\n",
      "    die hard: Nominated for 4 Oscars. 8 wins & 6 nominations total\n",
      "    love actually: 10 wins & 29 nominations total\n",
      " Compare first to second:\n",
      "4\n",
      "\n",
      "Criterium: Awards\n",
      "    interstellar: Won 1 Oscar. 44 wins & 148 nominations total\n",
      "    love actually: 10 wins & 29 nominations total\n",
      " Compare first to second:\n",
      "20\n",
      "\n",
      "Criterium: imdbVotes\n",
      "    die hard: 823,260\n",
      "    interstellar: 1,625,316\n",
      " Compare first to second:\n",
      "1\n",
      "\n",
      "Criterium: imdbVotes\n",
      "    die hard: 823,260\n",
      "    love actually: 448,670\n",
      " Compare first to second:\n",
      "1\n",
      "\n",
      "Criterium: imdbVotes\n",
      "    interstellar: 1,625,316\n",
      "    love actually: 448,670\n",
      " Compare first to second:\n",
      "1\n"
     ]
    }
   ],
   "source": [
    "movies_matrices = [pd.DataFrame(columns=movies, index=movies) for _ in range(len(chosen_criteria))]\n",
    "criteria_matrices = pd.DataFrame(columns=chosen_criteria, index=chosen_criteria)\n",
    "\n",
    "\n",
    "for i, criterium in enumerate(chosen_criteria):\n",
    "    for pair in movies_pairs:\n",
    "        matrix = movies_matrices[i]\n",
    "        np.fill_diagonal(matrix.values, 1)\n",
    "        \n",
    "        val =  float(input(f'\\nCriterium: {criterium}\\n    {pair[0]}: {movies_data[pair[0]][criterium]}\\n    {pair[1]}: {movies_data[pair[1]][criterium]}\\n Compare first to second:\\n'))\n",
    "        matrix[pair[0]][pair[1]] = val\n",
    "        matrix[pair[1]][pair[0]] = 1/val\n"
   ]
  },
  {
   "cell_type": "markdown",
   "metadata": {},
   "source": [
    "## User rating criteria priority"
   ]
  },
  {
   "cell_type": "code",
   "execution_count": 188,
   "metadata": {},
   "outputs": [
    {
     "name": "stdout",
     "output_type": "stream",
     "text": [
      "Rate importance: Actors to Awards:\n",
      "0.5\n",
      "Rate importance: Actors to imdbVotes:\n",
      "10\n",
      "Rate importance: Awards to imdbVotes:\n",
      "10\n"
     ]
    }
   ],
   "source": [
    "for pair in criteria_pairs:\n",
    "    np.fill_diagonal(criteria_matrices.values, 1) \n",
    "\n",
    "    val =  float(input(f'Rate importance: {pair[0]} to {pair[1]}:\\n'))\n",
    "    criteria_matrices[pair[0]][pair[1]] = val\n",
    "    criteria_matrices[pair[1]][pair[0]] = 1/val"
   ]
  },
  {
   "cell_type": "markdown",
   "metadata": {},
   "source": [
    "## EVM ranking method"
   ]
  },
  {
   "cell_type": "code",
   "execution_count": 189,
   "metadata": {},
   "outputs": [],
   "source": [
    "def count_evm(comparison_matrix):\n",
    "    matrix = comparison_matrix.to_numpy(dtype=float)\n",
    "    values, vectors = np.linalg.eigh(matrix)\n",
    "    max_index = np.argmax(values)\n",
    "    v = np.abs(vectors[:, max_index])\n",
    "    return v / np.sum(v)"
   ]
  },
  {
   "cell_type": "code",
   "execution_count": 190,
   "metadata": {},
   "outputs": [],
   "source": [
    "priorities = pd.DataFrame(columns=movies, index=chosen_criteria)\n",
    "criteria_importance = pd.DataFrame(columns=chosen_criteria)"
   ]
  },
  {
   "cell_type": "code",
   "execution_count": 191,
   "metadata": {},
   "outputs": [
    {
     "data": {
      "text/html": [
       "<div>\n",
       "<style scoped>\n",
       "    .dataframe tbody tr th:only-of-type {\n",
       "        vertical-align: middle;\n",
       "    }\n",
       "\n",
       "    .dataframe tbody tr th {\n",
       "        vertical-align: top;\n",
       "    }\n",
       "\n",
       "    .dataframe thead th {\n",
       "        text-align: right;\n",
       "    }\n",
       "</style>\n",
       "<table border=\"1\" class=\"dataframe\">\n",
       "  <thead>\n",
       "    <tr style=\"text-align: right;\">\n",
       "      <th></th>\n",
       "      <th>Actors</th>\n",
       "      <th>Awards</th>\n",
       "      <th>imdbVotes</th>\n",
       "    </tr>\n",
       "  </thead>\n",
       "  <tbody>\n",
       "    <tr>\n",
       "      <th>Actors</th>\n",
       "      <td>1</td>\n",
       "      <td>2.0</td>\n",
       "      <td>0.1</td>\n",
       "    </tr>\n",
       "    <tr>\n",
       "      <th>Awards</th>\n",
       "      <td>0.5</td>\n",
       "      <td>1</td>\n",
       "      <td>0.1</td>\n",
       "    </tr>\n",
       "    <tr>\n",
       "      <th>imdbVotes</th>\n",
       "      <td>10.0</td>\n",
       "      <td>10.0</td>\n",
       "      <td>1</td>\n",
       "    </tr>\n",
       "  </tbody>\n",
       "</table>\n",
       "</div>"
      ],
      "text/plain": [
       "          Actors Awards imdbVotes\n",
       "Actors         1    2.0       0.1\n",
       "Awards       0.5      1       0.1\n",
       "imdbVotes   10.0   10.0         1"
      ]
     },
     "execution_count": 191,
     "metadata": {},
     "output_type": "execute_result"
    }
   ],
   "source": [
    "# count priorities and importance\n",
    "# multiply priorities * importance\n",
    "# sum up\n",
    "criteria_matrices"
   ]
  },
  {
   "cell_type": "code",
   "execution_count": 192,
   "metadata": {},
   "outputs": [],
   "source": [
    "criteria_priorities = pd.DataFrame(columns=chosen_criteria)\n",
    "criteria_priorities.loc[0] = count_evm(criteria_matrices)\n",
    "criteria_priorities = criteria_priorities.rename(index={0: \"priority\"})\n",
    "\n",
    "comparison_priorities = pd.DataFrame(columns=chosen_criteria, index=movies)\n",
    "for i, criterium in enumerate(chosen_criteria):\n",
    "    matrix = movies_matrices[i]\n",
    "    comparison_priorities[criterium] = count_evm(matrix)   "
   ]
  },
  {
   "cell_type": "code",
   "execution_count": 193,
   "metadata": {},
   "outputs": [
    {
     "data": {
      "text/html": [
       "<div>\n",
       "<style scoped>\n",
       "    .dataframe tbody tr th:only-of-type {\n",
       "        vertical-align: middle;\n",
       "    }\n",
       "\n",
       "    .dataframe tbody tr th {\n",
       "        vertical-align: top;\n",
       "    }\n",
       "\n",
       "    .dataframe thead th {\n",
       "        text-align: right;\n",
       "    }\n",
       "</style>\n",
       "<table border=\"1\" class=\"dataframe\">\n",
       "  <thead>\n",
       "    <tr style=\"text-align: right;\">\n",
       "      <th></th>\n",
       "      <th>Actors</th>\n",
       "      <th>Awards</th>\n",
       "      <th>imdbVotes</th>\n",
       "    </tr>\n",
       "  </thead>\n",
       "  <tbody>\n",
       "    <tr>\n",
       "      <th>die hard</th>\n",
       "      <td>0.407799</td>\n",
       "      <td>0.092022</td>\n",
       "      <td>0.333333</td>\n",
       "    </tr>\n",
       "    <tr>\n",
       "      <th>interstellar</th>\n",
       "      <td>0.372587</td>\n",
       "      <td>0.449549</td>\n",
       "      <td>0.333333</td>\n",
       "    </tr>\n",
       "    <tr>\n",
       "      <th>love actually</th>\n",
       "      <td>0.219615</td>\n",
       "      <td>0.458429</td>\n",
       "      <td>0.333333</td>\n",
       "    </tr>\n",
       "  </tbody>\n",
       "</table>\n",
       "</div>"
      ],
      "text/plain": [
       "                 Actors    Awards  imdbVotes\n",
       "die hard       0.407799  0.092022   0.333333\n",
       "interstellar   0.372587  0.449549   0.333333\n",
       "love actually  0.219615  0.458429   0.333333"
      ]
     },
     "execution_count": 193,
     "metadata": {},
     "output_type": "execute_result"
    }
   ],
   "source": [
    "comparison_priorities"
   ]
  },
  {
   "cell_type": "code",
   "execution_count": 194,
   "metadata": {},
   "outputs": [
    {
     "data": {
      "text/html": [
       "<div>\n",
       "<style scoped>\n",
       "    .dataframe tbody tr th:only-of-type {\n",
       "        vertical-align: middle;\n",
       "    }\n",
       "\n",
       "    .dataframe tbody tr th {\n",
       "        vertical-align: top;\n",
       "    }\n",
       "\n",
       "    .dataframe thead th {\n",
       "        text-align: right;\n",
       "    }\n",
       "</style>\n",
       "<table border=\"1\" class=\"dataframe\">\n",
       "  <thead>\n",
       "    <tr style=\"text-align: right;\">\n",
       "      <th></th>\n",
       "      <th>Actors</th>\n",
       "      <th>Awards</th>\n",
       "      <th>imdbVotes</th>\n",
       "    </tr>\n",
       "  </thead>\n",
       "  <tbody>\n",
       "    <tr>\n",
       "      <th>priority</th>\n",
       "      <td>0.295034</td>\n",
       "      <td>0.295034</td>\n",
       "      <td>0.409931</td>\n",
       "    </tr>\n",
       "  </tbody>\n",
       "</table>\n",
       "</div>"
      ],
      "text/plain": [
       "            Actors    Awards  imdbVotes\n",
       "priority  0.295034  0.295034   0.409931"
      ]
     },
     "execution_count": 194,
     "metadata": {},
     "output_type": "execute_result"
    }
   ],
   "source": [
    "criteria_priorities"
   ]
  },
  {
   "cell_type": "code",
   "execution_count": 195,
   "metadata": {},
   "outputs": [
    {
     "data": {
      "text/html": [
       "<div>\n",
       "<style scoped>\n",
       "    .dataframe tbody tr th:only-of-type {\n",
       "        vertical-align: middle;\n",
       "    }\n",
       "\n",
       "    .dataframe tbody tr th {\n",
       "        vertical-align: top;\n",
       "    }\n",
       "\n",
       "    .dataframe thead th {\n",
       "        text-align: right;\n",
       "    }\n",
       "</style>\n",
       "<table border=\"1\" class=\"dataframe\">\n",
       "  <thead>\n",
       "    <tr style=\"text-align: right;\">\n",
       "      <th></th>\n",
       "      <th>Actors</th>\n",
       "      <th>Awards</th>\n",
       "      <th>imdbVotes</th>\n",
       "    </tr>\n",
       "  </thead>\n",
       "  <tbody>\n",
       "    <tr>\n",
       "      <th>die hard</th>\n",
       "      <td>0.120315</td>\n",
       "      <td>0.027150</td>\n",
       "      <td>0.136644</td>\n",
       "    </tr>\n",
       "    <tr>\n",
       "      <th>interstellar</th>\n",
       "      <td>0.109926</td>\n",
       "      <td>0.132633</td>\n",
       "      <td>0.136644</td>\n",
       "    </tr>\n",
       "    <tr>\n",
       "      <th>love actually</th>\n",
       "      <td>0.064794</td>\n",
       "      <td>0.135252</td>\n",
       "      <td>0.136644</td>\n",
       "    </tr>\n",
       "  </tbody>\n",
       "</table>\n",
       "</div>"
      ],
      "text/plain": [
       "                 Actors    Awards  imdbVotes\n",
       "die hard       0.120315  0.027150   0.136644\n",
       "interstellar   0.109926  0.132633   0.136644\n",
       "love actually  0.064794  0.135252   0.136644"
      ]
     },
     "execution_count": 195,
     "metadata": {},
     "output_type": "execute_result"
    }
   ],
   "source": [
    "for criterium in chosen_criteria:  \n",
    "    comparison_priorities[criterium] = comparison_priorities[criterium].values * criteria_priorities[criterium].values\n",
    "comparison_priorities"
   ]
  },
  {
   "cell_type": "code",
   "execution_count": 196,
   "metadata": {},
   "outputs": [
    {
     "data": {
      "text/html": [
       "<div>\n",
       "<style scoped>\n",
       "    .dataframe tbody tr th:only-of-type {\n",
       "        vertical-align: middle;\n",
       "    }\n",
       "\n",
       "    .dataframe tbody tr th {\n",
       "        vertical-align: top;\n",
       "    }\n",
       "\n",
       "    .dataframe thead th {\n",
       "        text-align: right;\n",
       "    }\n",
       "</style>\n",
       "<table border=\"1\" class=\"dataframe\">\n",
       "  <thead>\n",
       "    <tr style=\"text-align: right;\">\n",
       "      <th></th>\n",
       "      <th>Actors</th>\n",
       "      <th>Awards</th>\n",
       "      <th>imdbVotes</th>\n",
       "      <th>Goal</th>\n",
       "    </tr>\n",
       "  </thead>\n",
       "  <tbody>\n",
       "    <tr>\n",
       "      <th>die hard</th>\n",
       "      <td>0.120315</td>\n",
       "      <td>0.027150</td>\n",
       "      <td>0.136644</td>\n",
       "      <td>0.284108</td>\n",
       "    </tr>\n",
       "    <tr>\n",
       "      <th>interstellar</th>\n",
       "      <td>0.109926</td>\n",
       "      <td>0.132633</td>\n",
       "      <td>0.136644</td>\n",
       "      <td>0.379202</td>\n",
       "    </tr>\n",
       "    <tr>\n",
       "      <th>love actually</th>\n",
       "      <td>0.064794</td>\n",
       "      <td>0.135252</td>\n",
       "      <td>0.136644</td>\n",
       "      <td>0.336690</td>\n",
       "    </tr>\n",
       "  </tbody>\n",
       "</table>\n",
       "</div>"
      ],
      "text/plain": [
       "                 Actors    Awards  imdbVotes      Goal\n",
       "die hard       0.120315  0.027150   0.136644  0.284108\n",
       "interstellar   0.109926  0.132633   0.136644  0.379202\n",
       "love actually  0.064794  0.135252   0.136644  0.336690"
      ]
     },
     "execution_count": 196,
     "metadata": {},
     "output_type": "execute_result"
    }
   ],
   "source": [
    "comparison_priorities[\"Goal\"] = comparison_priorities.sum(axis=1)\n",
    "comparison_priorities"
   ]
  },
  {
   "cell_type": "code",
   "execution_count": null,
   "metadata": {},
   "outputs": [],
   "source": []
  },
  {
   "cell_type": "code",
   "execution_count": null,
   "metadata": {},
   "outputs": [],
   "source": []
  },
  {
   "cell_type": "markdown",
   "metadata": {},
   "source": [
    "# ---------------------------------------------------------------------------------------------------------------"
   ]
  },
  {
   "cell_type": "markdown",
   "metadata": {},
   "source": [
    "dataframe = pd.read_csv(\"piwo.csv\", index_col=0, sep=' ')"
   ]
  },
  {
   "cell_type": "code",
   "execution_count": null,
   "metadata": {},
   "outputs": [],
   "source": [
    "dataframe"
   ]
  },
  {
   "cell_type": "code",
   "execution_count": null,
   "metadata": {},
   "outputs": [],
   "source": [
    "dataframe.columns.values.tolist()"
   ]
  },
  {
   "cell_type": "code",
   "execution_count": null,
   "metadata": {},
   "outputs": [],
   "source": [
    "dataframe[[\"Koszt\", \"Procent\"]]"
   ]
  },
  {
   "cell_type": "code",
   "execution_count": null,
   "metadata": {},
   "outputs": [],
   "source": [
    "dataframe[\"Koszt\"]"
   ]
  },
  {
   "cell_type": "code",
   "execution_count": null,
   "metadata": {},
   "outputs": [],
   "source": [
    "def get_columns_names(dataframe):\n",
    "    return dataframe.columns.values.tolist()"
   ]
  },
  {
   "cell_type": "code",
   "execution_count": null,
   "metadata": {},
   "outputs": [],
   "source": [
    "print(get_columns_names(dataframe))"
   ]
  },
  {
   "cell_type": "code",
   "execution_count": null,
   "metadata": {},
   "outputs": [],
   "source": [
    "def filter_dataframe_columns(dataframe, columns_to_stay):\n",
    "    dataframe_columns_names = get_columns_names(dataframe)\n",
    "    columns_to_drop = set(dataframe_columns_names) - set(columns_to_stay)\n",
    "    return dataframe.drop(columns=columns_to_drop)"
   ]
  },
  {
   "cell_type": "code",
   "execution_count": null,
   "metadata": {},
   "outputs": [],
   "source": [
    "only_good_values = filter_dataframe_columns(dataframe, [\"Koszt\", \"Procent\", \"Smak\"])\n",
    "only_good_values"
   ]
  },
  {
   "cell_type": "code",
   "execution_count": null,
   "metadata": {},
   "outputs": [],
   "source": [
    "def count_evm(comparison_matrix):\n",
    "    matrix = comparison_matrix.to_numpy(dtype=float)\n",
    "    values, vectors = np.linalg.eigh(matrix)\n",
    "    max_index = np.argmax(values)\n",
    "    v = np.abs(vectors[:, max_index])\n",
    "    return v / np.sum(v)"
   ]
  },
  {
   "cell_type": "code",
   "execution_count": null,
   "metadata": {},
   "outputs": [],
   "source": [
    "comp_matrix = np.array([[1,2, 9],[1/2,1, 2], [1/9, 1/2, 1]])\n",
    "print(comp_matrix)\n",
    "w, v = count_eigenvalue(comp_matrix)\n",
    "print(w)\n",
    "print(v)"
   ]
  },
  {
   "cell_type": "code",
   "execution_count": null,
   "metadata": {},
   "outputs": [],
   "source": [
    "def get_final_ranking(dataframe, weights):\n",
    "    data = dataframe.to_numpy()\n",
    "    return np.sum(data*weights, axis=-1)"
   ]
  },
  {
   "cell_type": "code",
   "execution_count": null,
   "metadata": {},
   "outputs": [],
   "source": [
    "print(make_ranking(only_good_values, w))"
   ]
  },
  {
   "cell_type": "code",
   "execution_count": null,
   "metadata": {},
   "outputs": [],
   "source": [
    "def apply_ranking_to_dataframe(dataframe, weigth):\n",
    "    result_dataframe = dataframe.copy(deep=True)\n",
    "    ranking = get_final_ranking(dataframe, weigth)\n",
    "    result_dataframe[\"Wyniki\"] = ranking.tolist()\n",
    "    result_dataframe = result_dataframe.sort_values(\"Wyniki\", ascending=False)\n",
    "    return result_dataframe"
   ]
  },
  {
   "cell_type": "code",
   "execution_count": null,
   "metadata": {},
   "outputs": [],
   "source": [
    "result_dataframe = apply_ranking_to_dataframe(only_good_values, w)\n",
    "result_dataframe"
   ]
  },
  {
   "cell_type": "code",
   "execution_count": null,
   "metadata": {},
   "outputs": [],
   "source": []
  }
 ],
 "metadata": {
  "kernelspec": {
   "display_name": "Python 3",
   "language": "python",
   "name": "python3"
  },
  "language_info": {
   "codemirror_mode": {
    "name": "ipython",
    "version": 3
   },
   "file_extension": ".py",
   "mimetype": "text/x-python",
   "name": "python",
   "nbconvert_exporter": "python",
   "pygments_lexer": "ipython3",
   "version": "3.8.8"
  }
 },
 "nbformat": 4,
 "nbformat_minor": 4
}
