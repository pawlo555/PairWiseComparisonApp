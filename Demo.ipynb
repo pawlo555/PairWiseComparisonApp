{
 "cells": [
  {
   "cell_type": "markdown",
   "metadata": {},
   "source": [
    "# TODO\n",
    "- ładnie opisać co się dzieje\n",
    "- ładnie na funkcje podzielić i refactor ogólnie\n",
    "- obsługa inputu\n",
    "- obsługa plakatów <3"
   ]
  },
  {
   "cell_type": "code",
   "execution_count": 1,
   "metadata": {},
   "outputs": [],
   "source": [
    "import numpy as np\n",
    "import pandas as pd\n",
    "import requests\n",
    "import itertools"
   ]
  },
  {
   "cell_type": "markdown",
   "metadata": {},
   "source": [
    "## Move API"
   ]
  },
  {
   "cell_type": "code",
   "execution_count": 17,
   "metadata": {},
   "outputs": [],
   "source": [
    "api_key = '63a56440'\n",
    "url = f'http://www.omdbapi.com/?apikey={api_key}'\n",
    "params = {\"t\":\"\", \"plot\": \"short\", \"r\":\"json\"}"
   ]
  },
  {
   "cell_type": "code",
   "execution_count": 18,
   "metadata": {},
   "outputs": [],
   "source": [
    "def fetch_movies(movies):\n",
    "    movies_data = {}\n",
    "    for movie in movies:\n",
    "        params[\"t\"] = movie\n",
    "        response = requests.get(url, params=params).json()\n",
    "        movies_data[movie] = response\n",
    "    return movies_data"
   ]
  },
  {
   "cell_type": "markdown",
   "metadata": {},
   "source": [
    "## Get input from user"
   ]
  },
  {
   "cell_type": "code",
   "execution_count": 36,
   "metadata": {},
   "outputs": [
    {
     "name": "stdout",
     "output_type": "stream",
     "text": [
      "Please enter a movie title to compare. When you finish press enter.\n",
      "\n",
      "dfalsodufhao\n",
      "\n"
     ]
    }
   ],
   "source": [
    "value = None\n",
    "movies = []\n",
    "\n",
    "print(\"Please enter a movie title to compare. When you finish press enter.\\n\")\n",
    "\n",
    "while value != '':\n",
    "    value = input()\n",
    "    if value != '':\n",
    "        movies.append(value)\n",
    "\n",
    "movies_data = fetch_movies(movies)"
   ]
  },
  {
   "cell_type": "code",
   "execution_count": null,
   "metadata": {},
   "outputs": [
    {
     "name": "stdout",
     "output_type": "stream",
     "text": [
      "1. Error\n",
      "\n",
      "Please enter a criteria number to compare. When you finish press enter.\n",
      "\n"
     ]
    }
   ],
   "source": [
    "criteria = list(movies_data[movies[0]].keys())\n",
    "\n",
    "for index, criterium in enumerate(criteria[1:]):\n",
    "    print(f'{index + 1}. {criterium}')\n",
    "\n",
    "value = None\n",
    "chosen_criteria = []\n",
    "\n",
    "print(\"\\nPlease enter a criteria number to compare. When you finish press enter.\\n\")\n",
    "\n",
    "while value != '':\n",
    "    value = input()\n",
    "    if value != '':\n",
    "        chosen_criteria.append(criteria[int(value)])"
   ]
  },
  {
   "cell_type": "markdown",
   "metadata": {},
   "source": [
    "## Create pairs to compare"
   ]
  },
  {
   "cell_type": "code",
   "execution_count": 35,
   "metadata": {},
   "outputs": [
    {
     "name": "stdout",
     "output_type": "stream",
     "text": [
      "Movies pairs:  []\n",
      "\n",
      "Criteria pairs:  []\n"
     ]
    }
   ],
   "source": [
    "movies_pairs = list(itertools.combinations(movies, 2))\n",
    "criteria_pairs = list(itertools.combinations(chosen_criteria, 2))\n",
    "\n",
    "print(\"Movies pairs: \", movies_pairs)\n",
    "print(\"\\nCriteria pairs: \", criteria_pairs)"
   ]
  },
  {
   "cell_type": "markdown",
   "metadata": {},
   "source": [
    "## User rating movies"
   ]
  },
  {
   "cell_type": "code",
   "execution_count": 23,
   "metadata": {},
   "outputs": [
    {
     "name": "stdout",
     "output_type": "stream",
     "text": [
      "\n",
      "Criterium: Actors\n",
      "    unforgiven: Clint Eastwood, Gene Hackman, Morgan Freeman\n",
      "    interstellar: Matthew McConaughey, Anne Hathaway, Jessica Chastain\n",
      " Compare first to second:\n",
      "10\n",
      "\n",
      "Criterium: Actors\n",
      "    unforgiven: Clint Eastwood, Gene Hackman, Morgan Freeman\n",
      "    django: Franco Nero, José Canalejas, José Bódalo\n",
      " Compare first to second:\n",
      "10\n",
      "\n",
      "Criterium: Actors\n",
      "    interstellar: Matthew McConaughey, Anne Hathaway, Jessica Chastain\n",
      "    django: Franco Nero, José Canalejas, José Bódalo\n",
      " Compare first to second:\n",
      "2\n",
      "\n",
      "Criterium: Type\n",
      "    unforgiven: movie\n",
      "    interstellar: movie\n",
      " Compare first to second:\n",
      "1\n",
      "\n",
      "Criterium: Type\n",
      "    unforgiven: movie\n",
      "    django: movie\n",
      " Compare first to second:\n",
      "1\n",
      "\n",
      "Criterium: Type\n",
      "    interstellar: movie\n",
      "    django: movie\n",
      " Compare first to second:\n",
      "1\n"
     ]
    }
   ],
   "source": [
    "movies_matrices = [pd.DataFrame(columns=movies, index=movies) for _ in range(len(chosen_criteria))]\n",
    "criteria_matrices = pd.DataFrame(columns=chosen_criteria, index=chosen_criteria)\n",
    "\n",
    "\n",
    "for i, criterium in enumerate(chosen_criteria):\n",
    "    for pair in movies_pairs:\n",
    "        matrix = movies_matrices[i]\n",
    "        np.fill_diagonal(matrix.values, 1)\n",
    "        \n",
    "        val =  float(input(f'\\nCriterium: {criterium}\\n    {pair[0]}: {movies_data[pair[0]][criterium]}\\n    {pair[1]}: {movies_data[pair[1]][criterium]}\\n Compare first to second:\\n'))\n",
    "        matrix[pair[0]][pair[1]] = val\n",
    "        matrix[pair[1]][pair[0]] = 1/val\n"
   ]
  },
  {
   "cell_type": "markdown",
   "metadata": {},
   "source": [
    "## User rating criteria priority"
   ]
  },
  {
   "cell_type": "code",
   "execution_count": 24,
   "metadata": {},
   "outputs": [
    {
     "name": "stdout",
     "output_type": "stream",
     "text": [
      "Rate importance: Actors to Type:\n",
      "10\n"
     ]
    }
   ],
   "source": [
    "for pair in criteria_pairs:\n",
    "    np.fill_diagonal(criteria_matrices.values, 1) \n",
    "\n",
    "    val =  float(input(f'Rate importance: {pair[0]} to {pair[1]}:\\n'))\n",
    "    criteria_matrices[pair[0]][pair[1]] = val\n",
    "    criteria_matrices[pair[1]][pair[0]] = 1/val"
   ]
  },
  {
   "cell_type": "markdown",
   "metadata": {},
   "source": [
    "## EVM ranking method"
   ]
  },
  {
   "cell_type": "code",
   "execution_count": 25,
   "metadata": {},
   "outputs": [],
   "source": [
    "def count_evm(comparison_matrix):\n",
    "    matrix = comparison_matrix.to_numpy(dtype=float)\n",
    "    values, vectors = np.linalg.eigh(matrix)\n",
    "    max_index = np.argmax(values)\n",
    "    v = np.abs(vectors[:, max_index])\n",
    "    return v / np.sum(v)"
   ]
  },
  {
   "cell_type": "code",
   "execution_count": 26,
   "metadata": {},
   "outputs": [],
   "source": [
    "priorities = pd.DataFrame(columns=movies, index=chosen_criteria)\n",
    "criteria_importance = pd.DataFrame(columns=chosen_criteria)"
   ]
  },
  {
   "cell_type": "code",
   "execution_count": 27,
   "metadata": {},
   "outputs": [
    {
     "data": {
      "text/html": [
       "<div>\n",
       "<style scoped>\n",
       "    .dataframe tbody tr th:only-of-type {\n",
       "        vertical-align: middle;\n",
       "    }\n",
       "\n",
       "    .dataframe tbody tr th {\n",
       "        vertical-align: top;\n",
       "    }\n",
       "\n",
       "    .dataframe thead th {\n",
       "        text-align: right;\n",
       "    }\n",
       "</style>\n",
       "<table border=\"1\" class=\"dataframe\">\n",
       "  <thead>\n",
       "    <tr style=\"text-align: right;\">\n",
       "      <th></th>\n",
       "      <th>Actors</th>\n",
       "      <th>Type</th>\n",
       "    </tr>\n",
       "  </thead>\n",
       "  <tbody>\n",
       "    <tr>\n",
       "      <th>Actors</th>\n",
       "      <td>1</td>\n",
       "      <td>0.1</td>\n",
       "    </tr>\n",
       "    <tr>\n",
       "      <th>Type</th>\n",
       "      <td>10.0</td>\n",
       "      <td>1</td>\n",
       "    </tr>\n",
       "  </tbody>\n",
       "</table>\n",
       "</div>"
      ],
      "text/plain": [
       "       Actors Type\n",
       "Actors      1  0.1\n",
       "Type     10.0    1"
      ]
     },
     "execution_count": 27,
     "metadata": {},
     "output_type": "execute_result"
    }
   ],
   "source": [
    "# count priorities and importance\n",
    "# multiply priorities * importance\n",
    "# sum up\n",
    "criteria_matrices"
   ]
  },
  {
   "cell_type": "code",
   "execution_count": 28,
   "metadata": {},
   "outputs": [],
   "source": [
    "criteria_priorities = pd.DataFrame(columns=chosen_criteria)\n",
    "criteria_priorities.loc[0] = count_evm(criteria_matrices)\n",
    "criteria_priorities = criteria_priorities.rename(index={0: \"priority\"})\n",
    "\n",
    "comparison_priorities = pd.DataFrame(columns=chosen_criteria, index=movies)\n",
    "for i, criterium in enumerate(chosen_criteria):\n",
    "    matrix = movies_matrices[i]\n",
    "    comparison_priorities[criterium] = count_evm(matrix)   "
   ]
  },
  {
   "cell_type": "code",
   "execution_count": 29,
   "metadata": {},
   "outputs": [
    {
     "data": {
      "text/html": [
       "<div>\n",
       "<style scoped>\n",
       "    .dataframe tbody tr th:only-of-type {\n",
       "        vertical-align: middle;\n",
       "    }\n",
       "\n",
       "    .dataframe tbody tr th {\n",
       "        vertical-align: top;\n",
       "    }\n",
       "\n",
       "    .dataframe thead th {\n",
       "        text-align: right;\n",
       "    }\n",
       "</style>\n",
       "<table border=\"1\" class=\"dataframe\">\n",
       "  <thead>\n",
       "    <tr style=\"text-align: right;\">\n",
       "      <th></th>\n",
       "      <th>Actors</th>\n",
       "      <th>Type</th>\n",
       "    </tr>\n",
       "  </thead>\n",
       "  <tbody>\n",
       "    <tr>\n",
       "      <th>unforgiven</th>\n",
       "      <td>0.397181</td>\n",
       "      <td>0.333333</td>\n",
       "    </tr>\n",
       "    <tr>\n",
       "      <th>interstellar</th>\n",
       "      <td>0.301410</td>\n",
       "      <td>0.333333</td>\n",
       "    </tr>\n",
       "    <tr>\n",
       "      <th>django</th>\n",
       "      <td>0.301410</td>\n",
       "      <td>0.333333</td>\n",
       "    </tr>\n",
       "  </tbody>\n",
       "</table>\n",
       "</div>"
      ],
      "text/plain": [
       "                Actors      Type\n",
       "unforgiven    0.397181  0.333333\n",
       "interstellar  0.301410  0.333333\n",
       "django        0.301410  0.333333"
      ]
     },
     "execution_count": 29,
     "metadata": {},
     "output_type": "execute_result"
    }
   ],
   "source": [
    "comparison_priorities"
   ]
  },
  {
   "cell_type": "code",
   "execution_count": 30,
   "metadata": {},
   "outputs": [
    {
     "data": {
      "text/html": [
       "<div>\n",
       "<style scoped>\n",
       "    .dataframe tbody tr th:only-of-type {\n",
       "        vertical-align: middle;\n",
       "    }\n",
       "\n",
       "    .dataframe tbody tr th {\n",
       "        vertical-align: top;\n",
       "    }\n",
       "\n",
       "    .dataframe thead th {\n",
       "        text-align: right;\n",
       "    }\n",
       "</style>\n",
       "<table border=\"1\" class=\"dataframe\">\n",
       "  <thead>\n",
       "    <tr style=\"text-align: right;\">\n",
       "      <th></th>\n",
       "      <th>Actors</th>\n",
       "      <th>Type</th>\n",
       "    </tr>\n",
       "  </thead>\n",
       "  <tbody>\n",
       "    <tr>\n",
       "      <th>priority</th>\n",
       "      <td>0.5</td>\n",
       "      <td>0.5</td>\n",
       "    </tr>\n",
       "  </tbody>\n",
       "</table>\n",
       "</div>"
      ],
      "text/plain": [
       "          Actors  Type\n",
       "priority     0.5   0.5"
      ]
     },
     "execution_count": 30,
     "metadata": {},
     "output_type": "execute_result"
    }
   ],
   "source": [
    "criteria_priorities"
   ]
  },
  {
   "cell_type": "code",
   "execution_count": 31,
   "metadata": {},
   "outputs": [
    {
     "data": {
      "text/html": [
       "<div>\n",
       "<style scoped>\n",
       "    .dataframe tbody tr th:only-of-type {\n",
       "        vertical-align: middle;\n",
       "    }\n",
       "\n",
       "    .dataframe tbody tr th {\n",
       "        vertical-align: top;\n",
       "    }\n",
       "\n",
       "    .dataframe thead th {\n",
       "        text-align: right;\n",
       "    }\n",
       "</style>\n",
       "<table border=\"1\" class=\"dataframe\">\n",
       "  <thead>\n",
       "    <tr style=\"text-align: right;\">\n",
       "      <th></th>\n",
       "      <th>Actors</th>\n",
       "      <th>Type</th>\n",
       "    </tr>\n",
       "  </thead>\n",
       "  <tbody>\n",
       "    <tr>\n",
       "      <th>unforgiven</th>\n",
       "      <td>0.198590</td>\n",
       "      <td>0.166667</td>\n",
       "    </tr>\n",
       "    <tr>\n",
       "      <th>interstellar</th>\n",
       "      <td>0.150705</td>\n",
       "      <td>0.166667</td>\n",
       "    </tr>\n",
       "    <tr>\n",
       "      <th>django</th>\n",
       "      <td>0.150705</td>\n",
       "      <td>0.166667</td>\n",
       "    </tr>\n",
       "  </tbody>\n",
       "</table>\n",
       "</div>"
      ],
      "text/plain": [
       "                Actors      Type\n",
       "unforgiven    0.198590  0.166667\n",
       "interstellar  0.150705  0.166667\n",
       "django        0.150705  0.166667"
      ]
     },
     "execution_count": 31,
     "metadata": {},
     "output_type": "execute_result"
    }
   ],
   "source": [
    "for criterium in chosen_criteria:  \n",
    "    comparison_priorities[criterium] = comparison_priorities[criterium].values * criteria_priorities[criterium].values\n",
    "comparison_priorities"
   ]
  },
  {
   "cell_type": "code",
   "execution_count": 32,
   "metadata": {},
   "outputs": [
    {
     "data": {
      "text/html": [
       "<div>\n",
       "<style scoped>\n",
       "    .dataframe tbody tr th:only-of-type {\n",
       "        vertical-align: middle;\n",
       "    }\n",
       "\n",
       "    .dataframe tbody tr th {\n",
       "        vertical-align: top;\n",
       "    }\n",
       "\n",
       "    .dataframe thead th {\n",
       "        text-align: right;\n",
       "    }\n",
       "</style>\n",
       "<table border=\"1\" class=\"dataframe\">\n",
       "  <thead>\n",
       "    <tr style=\"text-align: right;\">\n",
       "      <th></th>\n",
       "      <th>Actors</th>\n",
       "      <th>Type</th>\n",
       "      <th>Goal</th>\n",
       "    </tr>\n",
       "  </thead>\n",
       "  <tbody>\n",
       "    <tr>\n",
       "      <th>unforgiven</th>\n",
       "      <td>0.198590</td>\n",
       "      <td>0.166667</td>\n",
       "      <td>0.365257</td>\n",
       "    </tr>\n",
       "    <tr>\n",
       "      <th>interstellar</th>\n",
       "      <td>0.150705</td>\n",
       "      <td>0.166667</td>\n",
       "      <td>0.317371</td>\n",
       "    </tr>\n",
       "    <tr>\n",
       "      <th>django</th>\n",
       "      <td>0.150705</td>\n",
       "      <td>0.166667</td>\n",
       "      <td>0.317371</td>\n",
       "    </tr>\n",
       "  </tbody>\n",
       "</table>\n",
       "</div>"
      ],
      "text/plain": [
       "                Actors      Type      Goal\n",
       "unforgiven    0.198590  0.166667  0.365257\n",
       "interstellar  0.150705  0.166667  0.317371\n",
       "django        0.150705  0.166667  0.317371"
      ]
     },
     "execution_count": 32,
     "metadata": {},
     "output_type": "execute_result"
    }
   ],
   "source": [
    "comparison_priorities[\"Goal\"] = comparison_priorities.sum(axis=1)\n",
    "comparison_priorities"
   ]
  },
  {
   "cell_type": "code",
   "execution_count": null,
   "metadata": {},
   "outputs": [],
   "source": []
  },
  {
   "cell_type": "code",
   "execution_count": null,
   "metadata": {},
   "outputs": [],
   "source": []
  },
  {
   "cell_type": "markdown",
   "metadata": {},
   "source": [
    "# ---------------------------------------------------------------------------------------------------------------"
   ]
  },
  {
   "cell_type": "markdown",
   "metadata": {},
   "source": [
    "dataframe = pd.read_csv(\"piwo.csv\", index_col=0, sep=' ')"
   ]
  },
  {
   "cell_type": "code",
   "execution_count": null,
   "metadata": {},
   "outputs": [],
   "source": [
    "dataframe"
   ]
  },
  {
   "cell_type": "code",
   "execution_count": null,
   "metadata": {},
   "outputs": [],
   "source": [
    "dataframe.columns.values.tolist()"
   ]
  },
  {
   "cell_type": "code",
   "execution_count": null,
   "metadata": {},
   "outputs": [],
   "source": [
    "dataframe[[\"Koszt\", \"Procent\"]]"
   ]
  },
  {
   "cell_type": "code",
   "execution_count": null,
   "metadata": {},
   "outputs": [],
   "source": [
    "dataframe[\"Koszt\"]"
   ]
  },
  {
   "cell_type": "code",
   "execution_count": null,
   "metadata": {},
   "outputs": [],
   "source": [
    "def get_columns_names(dataframe):\n",
    "    return dataframe.columns.values.tolist()"
   ]
  },
  {
   "cell_type": "code",
   "execution_count": null,
   "metadata": {},
   "outputs": [],
   "source": [
    "print(get_columns_names(dataframe))"
   ]
  },
  {
   "cell_type": "code",
   "execution_count": null,
   "metadata": {},
   "outputs": [],
   "source": [
    "def filter_dataframe_columns(dataframe, columns_to_stay):\n",
    "    dataframe_columns_names = get_columns_names(dataframe)\n",
    "    columns_to_drop = set(dataframe_columns_names) - set(columns_to_stay)\n",
    "    return dataframe.drop(columns=columns_to_drop)"
   ]
  },
  {
   "cell_type": "code",
   "execution_count": null,
   "metadata": {},
   "outputs": [],
   "source": [
    "only_good_values = filter_dataframe_columns(dataframe, [\"Koszt\", \"Procent\", \"Smak\"])\n",
    "only_good_values"
   ]
  },
  {
   "cell_type": "code",
   "execution_count": null,
   "metadata": {},
   "outputs": [],
   "source": [
    "def count_evm(comparison_matrix):\n",
    "    matrix = comparison_matrix.to_numpy(dtype=float)\n",
    "    values, vectors = np.linalg.eigh(matrix)\n",
    "    max_index = np.argmax(values)\n",
    "    v = np.abs(vectors[:, max_index])\n",
    "    return v / np.sum(v)"
   ]
  },
  {
   "cell_type": "code",
   "execution_count": null,
   "metadata": {},
   "outputs": [],
   "source": [
    "comp_matrix = np.array([[1,2, 9],[1/2,1, 2], [1/9, 1/2, 1]])\n",
    "print(comp_matrix)\n",
    "w, v = count_eigenvalue(comp_matrix)\n",
    "print(w)\n",
    "print(v)"
   ]
  },
  {
   "cell_type": "code",
   "execution_count": null,
   "metadata": {},
   "outputs": [],
   "source": [
    "def get_final_ranking(dataframe, weights):\n",
    "    data = dataframe.to_numpy()\n",
    "    return np.sum(data*weights, axis=-1)"
   ]
  },
  {
   "cell_type": "code",
   "execution_count": null,
   "metadata": {},
   "outputs": [],
   "source": [
    "print(make_ranking(only_good_values, w))"
   ]
  },
  {
   "cell_type": "code",
   "execution_count": null,
   "metadata": {},
   "outputs": [],
   "source": [
    "def apply_ranking_to_dataframe(dataframe, weigth):\n",
    "    result_dataframe = dataframe.copy(deep=True)\n",
    "    ranking = get_final_ranking(dataframe, weigth)\n",
    "    result_dataframe[\"Wyniki\"] = ranking.tolist()\n",
    "    result_dataframe = result_dataframe.sort_values(\"Wyniki\", ascending=False)\n",
    "    return result_dataframe"
   ]
  },
  {
   "cell_type": "code",
   "execution_count": null,
   "metadata": {},
   "outputs": [],
   "source": [
    "result_dataframe = apply_ranking_to_dataframe(only_good_values, w)\n",
    "result_dataframe"
   ]
  },
  {
   "cell_type": "code",
   "execution_count": null,
   "metadata": {},
   "outputs": [],
   "source": []
  }
 ],
 "metadata": {
  "kernelspec": {
   "display_name": "Python 3",
   "language": "python",
   "name": "python3"
  },
  "language_info": {
   "codemirror_mode": {
    "name": "ipython",
    "version": 3
   },
   "file_extension": ".py",
   "mimetype": "text/x-python",
   "name": "python",
   "nbconvert_exporter": "python",
   "pygments_lexer": "ipython3",
   "version": "3.8.8"
  }
 },
 "nbformat": 4,
 "nbformat_minor": 4
}