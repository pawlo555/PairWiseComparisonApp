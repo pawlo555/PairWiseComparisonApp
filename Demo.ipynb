{
 "cells": [
  {
   "cell_type": "code",
   "execution_count": 81,
   "metadata": {},
   "outputs": [],
   "source": [
    "import numpy as np\n",
    "import pandas as pd"
   ]
  },
  {
   "cell_type": "code",
   "execution_count": 82,
   "metadata": {},
   "outputs": [],
   "source": [
    "dataframe = pd.read_csv(\"piwo.csv\", index_col=0, sep=' ')"
   ]
  },
  {
   "cell_type": "code",
   "execution_count": 83,
   "metadata": {},
   "outputs": [
    {
     "data": {
      "text/html": [
       "<div>\n",
       "<style scoped>\n",
       "    .dataframe tbody tr th:only-of-type {\n",
       "        vertical-align: middle;\n",
       "    }\n",
       "\n",
       "    .dataframe tbody tr th {\n",
       "        vertical-align: top;\n",
       "    }\n",
       "\n",
       "    .dataframe thead th {\n",
       "        text-align: right;\n",
       "    }\n",
       "</style>\n",
       "<table border=\"1\" class=\"dataframe\">\n",
       "  <thead>\n",
       "    <tr style=\"text-align: right;\">\n",
       "      <th></th>\n",
       "      <th>Koszt</th>\n",
       "      <th>Smak</th>\n",
       "      <th>Procent</th>\n",
       "      <th>Jakość</th>\n",
       "    </tr>\n",
       "    <tr>\n",
       "      <th>Imię</th>\n",
       "      <th></th>\n",
       "      <th></th>\n",
       "      <th></th>\n",
       "      <th></th>\n",
       "    </tr>\n",
       "  </thead>\n",
       "  <tbody>\n",
       "    <tr>\n",
       "      <th>Harnaś</th>\n",
       "      <td>9</td>\n",
       "      <td>2</td>\n",
       "      <td>3</td>\n",
       "      <td>4</td>\n",
       "    </tr>\n",
       "    <tr>\n",
       "      <th>Perła</th>\n",
       "      <td>6</td>\n",
       "      <td>3</td>\n",
       "      <td>4</td>\n",
       "      <td>5</td>\n",
       "    </tr>\n",
       "    <tr>\n",
       "      <th>Fortuna</th>\n",
       "      <td>5</td>\n",
       "      <td>3</td>\n",
       "      <td>4</td>\n",
       "      <td>5</td>\n",
       "    </tr>\n",
       "    <tr>\n",
       "      <th>Heineken</th>\n",
       "      <td>3</td>\n",
       "      <td>4</td>\n",
       "      <td>5</td>\n",
       "      <td>6</td>\n",
       "    </tr>\n",
       "    <tr>\n",
       "      <th>Tyskie</th>\n",
       "      <td>7</td>\n",
       "      <td>8</td>\n",
       "      <td>8</td>\n",
       "      <td>8</td>\n",
       "    </tr>\n",
       "  </tbody>\n",
       "</table>\n",
       "</div>"
      ],
      "text/plain": [
       "          Koszt  Smak  Procent  Jakość\n",
       "Imię                                  \n",
       "Harnaś        9     2        3       4\n",
       "Perła         6     3        4       5\n",
       "Fortuna       5     3        4       5\n",
       "Heineken      3     4        5       6\n",
       "Tyskie        7     8        8       8"
      ]
     },
     "execution_count": 83,
     "metadata": {},
     "output_type": "execute_result"
    }
   ],
   "source": [
    "dataframe"
   ]
  },
  {
   "cell_type": "code",
   "execution_count": 84,
   "metadata": {},
   "outputs": [
    {
     "data": {
      "text/plain": [
       "['Koszt', 'Smak', 'Procent', 'Jakość']"
      ]
     },
     "execution_count": 84,
     "metadata": {},
     "output_type": "execute_result"
    }
   ],
   "source": [
    "dataframe.columns.values.tolist()"
   ]
  },
  {
   "cell_type": "code",
   "execution_count": 85,
   "metadata": {},
   "outputs": [
    {
     "data": {
      "text/html": [
       "<div>\n",
       "<style scoped>\n",
       "    .dataframe tbody tr th:only-of-type {\n",
       "        vertical-align: middle;\n",
       "    }\n",
       "\n",
       "    .dataframe tbody tr th {\n",
       "        vertical-align: top;\n",
       "    }\n",
       "\n",
       "    .dataframe thead th {\n",
       "        text-align: right;\n",
       "    }\n",
       "</style>\n",
       "<table border=\"1\" class=\"dataframe\">\n",
       "  <thead>\n",
       "    <tr style=\"text-align: right;\">\n",
       "      <th></th>\n",
       "      <th>Koszt</th>\n",
       "      <th>Procent</th>\n",
       "    </tr>\n",
       "    <tr>\n",
       "      <th>Imię</th>\n",
       "      <th></th>\n",
       "      <th></th>\n",
       "    </tr>\n",
       "  </thead>\n",
       "  <tbody>\n",
       "    <tr>\n",
       "      <th>Harnaś</th>\n",
       "      <td>9</td>\n",
       "      <td>3</td>\n",
       "    </tr>\n",
       "    <tr>\n",
       "      <th>Perła</th>\n",
       "      <td>6</td>\n",
       "      <td>4</td>\n",
       "    </tr>\n",
       "    <tr>\n",
       "      <th>Fortuna</th>\n",
       "      <td>5</td>\n",
       "      <td>4</td>\n",
       "    </tr>\n",
       "    <tr>\n",
       "      <th>Heineken</th>\n",
       "      <td>3</td>\n",
       "      <td>5</td>\n",
       "    </tr>\n",
       "    <tr>\n",
       "      <th>Tyskie</th>\n",
       "      <td>7</td>\n",
       "      <td>8</td>\n",
       "    </tr>\n",
       "  </tbody>\n",
       "</table>\n",
       "</div>"
      ],
      "text/plain": [
       "          Koszt  Procent\n",
       "Imię                    \n",
       "Harnaś        9        3\n",
       "Perła         6        4\n",
       "Fortuna       5        4\n",
       "Heineken      3        5\n",
       "Tyskie        7        8"
      ]
     },
     "execution_count": 85,
     "metadata": {},
     "output_type": "execute_result"
    }
   ],
   "source": [
    "dataframe[[\"Koszt\", \"Procent\"]]"
   ]
  },
  {
   "cell_type": "code",
   "execution_count": 86,
   "metadata": {},
   "outputs": [
    {
     "data": {
      "text/plain": [
       "Imię\n",
       "Harnaś      9\n",
       "Perła       6\n",
       "Fortuna     5\n",
       "Heineken    3\n",
       "Tyskie      7\n",
       "Name: Koszt, dtype: int64"
      ]
     },
     "execution_count": 86,
     "metadata": {},
     "output_type": "execute_result"
    }
   ],
   "source": [
    "dataframe[\"Koszt\"]"
   ]
  },
  {
   "cell_type": "code",
   "execution_count": 87,
   "metadata": {},
   "outputs": [],
   "source": [
    "def get_columns_names(dataframe):\n",
    "    return dataframe.columns.values.tolist()"
   ]
  },
  {
   "cell_type": "code",
   "execution_count": 88,
   "metadata": {},
   "outputs": [
    {
     "name": "stdout",
     "output_type": "stream",
     "text": [
      "['Koszt', 'Smak', 'Procent', 'Jakość']\n"
     ]
    }
   ],
   "source": [
    "print(get_columns_names(dataframe))"
   ]
  },
  {
   "cell_type": "code",
   "execution_count": 89,
   "metadata": {},
   "outputs": [],
   "source": [
    "def filter_dataframe_columns(dataframe, columns_to_stay):\n",
    "    dataframe_columns_names = get_columns_names(dataframe)\n",
    "    columns_to_drop = set(dataframe_columns_names) - set(columns_to_stay)\n",
    "    return dataframe.drop(columns=columns_to_drop)"
   ]
  },
  {
   "cell_type": "code",
   "execution_count": 122,
   "metadata": {},
   "outputs": [
    {
     "data": {
      "text/html": [
       "<div>\n",
       "<style scoped>\n",
       "    .dataframe tbody tr th:only-of-type {\n",
       "        vertical-align: middle;\n",
       "    }\n",
       "\n",
       "    .dataframe tbody tr th {\n",
       "        vertical-align: top;\n",
       "    }\n",
       "\n",
       "    .dataframe thead th {\n",
       "        text-align: right;\n",
       "    }\n",
       "</style>\n",
       "<table border=\"1\" class=\"dataframe\">\n",
       "  <thead>\n",
       "    <tr style=\"text-align: right;\">\n",
       "      <th></th>\n",
       "      <th>Koszt</th>\n",
       "      <th>Smak</th>\n",
       "      <th>Procent</th>\n",
       "    </tr>\n",
       "    <tr>\n",
       "      <th>Imię</th>\n",
       "      <th></th>\n",
       "      <th></th>\n",
       "      <th></th>\n",
       "    </tr>\n",
       "  </thead>\n",
       "  <tbody>\n",
       "    <tr>\n",
       "      <th>Harnaś</th>\n",
       "      <td>9</td>\n",
       "      <td>2</td>\n",
       "      <td>3</td>\n",
       "    </tr>\n",
       "    <tr>\n",
       "      <th>Perła</th>\n",
       "      <td>6</td>\n",
       "      <td>3</td>\n",
       "      <td>4</td>\n",
       "    </tr>\n",
       "    <tr>\n",
       "      <th>Fortuna</th>\n",
       "      <td>5</td>\n",
       "      <td>3</td>\n",
       "      <td>4</td>\n",
       "    </tr>\n",
       "    <tr>\n",
       "      <th>Heineken</th>\n",
       "      <td>3</td>\n",
       "      <td>4</td>\n",
       "      <td>5</td>\n",
       "    </tr>\n",
       "    <tr>\n",
       "      <th>Tyskie</th>\n",
       "      <td>7</td>\n",
       "      <td>8</td>\n",
       "      <td>8</td>\n",
       "    </tr>\n",
       "  </tbody>\n",
       "</table>\n",
       "</div>"
      ],
      "text/plain": [
       "          Koszt  Smak  Procent\n",
       "Imię                          \n",
       "Harnaś        9     2        3\n",
       "Perła         6     3        4\n",
       "Fortuna       5     3        4\n",
       "Heineken      3     4        5\n",
       "Tyskie        7     8        8"
      ]
     },
     "execution_count": 122,
     "metadata": {},
     "output_type": "execute_result"
    }
   ],
   "source": [
    "only_good_values = filter_dataframe_columns(dataframe, [\"Koszt\", \"Procent\", \"Smak\"])\n",
    "only_good_values"
   ]
  },
  {
   "cell_type": "code",
   "execution_count": 149,
   "metadata": {},
   "outputs": [],
   "source": [
    "def count_eigenvalue(comparison_matrix):\n",
    "    return np.linalg.eigh(comparison_matrix)"
   ]
  },
  {
   "cell_type": "code",
   "execution_count": 150,
   "metadata": {},
   "outputs": [
    {
     "name": "stdout",
     "output_type": "stream",
     "text": [
      "[[1.         2.         9.        ]\n",
      " [0.5        1.         2.        ]\n",
      " [0.11111111 0.5        1.        ]]\n",
      "[0.3462697  0.88888889 1.76484141]\n",
      "[[ 0.84679693+0.j          0.84679693+0.j          0.84679693-0.j        ]\n",
      " [ 0.46601031+0.j         -0.23300515+0.40357677j -0.23300515-0.40357677j]\n",
      " [ 0.25645536+0.j         -0.12822768-0.22209685j -0.12822768+0.22209685j]]\n"
     ]
    }
   ],
   "source": [
    "comp_matrix = np.array([[1,2, 9],[1/2,1, 2], [1/9, 1/2, 1]])\n",
    "print(comp_matrix)\n",
    "w, v = count_eigenvalue(comp_matrix)\n",
    "print(w)\n",
    "print(v)"
   ]
  },
  {
   "cell_type": "code",
   "execution_count": 135,
   "metadata": {},
   "outputs": [],
   "source": [
    "def get_final_ranking(dataframe, weights):\n",
    "    data = dataframe.to_numpy()\n",
    "    return np.sum(data*weights, axis=-1)"
   ]
  },
  {
   "cell_type": "code",
   "execution_count": 136,
   "metadata": {},
   "outputs": [
    {
     "name": "stdout",
     "output_type": "stream",
     "text": [
      "[27.05981763-0.166348j 18.02300678-0.166348j 15.01380407-0.166348j\n",
      "  8.98619593-0.166348j 20.99079729+0.j      ]\n"
     ]
    }
   ],
   "source": [
    "print(make_ranking(only_good_values, w))"
   ]
  },
  {
   "cell_type": "code",
   "execution_count": 137,
   "metadata": {},
   "outputs": [],
   "source": [
    "def apply_ranking_to_dataframe(dataframe, weigth):\n",
    "    result_dataframe = dataframe.copy(deep=True)\n",
    "    ranking = get_final_ranking(dataframe, weigth)\n",
    "    result_dataframe[\"Wyniki\"] = ranking.tolist()\n",
    "    result_dataframe = result_dataframe.sort_values(\"Wyniki\", ascending=False)\n",
    "    return result_dataframe"
   ]
  },
  {
   "cell_type": "code",
   "execution_count": 138,
   "metadata": {},
   "outputs": [
    {
     "data": {
      "text/html": [
       "<div>\n",
       "<style scoped>\n",
       "    .dataframe tbody tr th:only-of-type {\n",
       "        vertical-align: middle;\n",
       "    }\n",
       "\n",
       "    .dataframe tbody tr th {\n",
       "        vertical-align: top;\n",
       "    }\n",
       "\n",
       "    .dataframe thead th {\n",
       "        text-align: right;\n",
       "    }\n",
       "</style>\n",
       "<table border=\"1\" class=\"dataframe\">\n",
       "  <thead>\n",
       "    <tr style=\"text-align: right;\">\n",
       "      <th></th>\n",
       "      <th>Koszt</th>\n",
       "      <th>Smak</th>\n",
       "      <th>Procent</th>\n",
       "      <th>Wyniki</th>\n",
       "    </tr>\n",
       "    <tr>\n",
       "      <th>Imię</th>\n",
       "      <th></th>\n",
       "      <th></th>\n",
       "      <th></th>\n",
       "      <th></th>\n",
       "    </tr>\n",
       "  </thead>\n",
       "  <tbody>\n",
       "    <tr>\n",
       "      <th>Harnaś</th>\n",
       "      <td>9</td>\n",
       "      <td>2</td>\n",
       "      <td>3</td>\n",
       "      <td>27.059818-0.166348j</td>\n",
       "    </tr>\n",
       "    <tr>\n",
       "      <th>Tyskie</th>\n",
       "      <td>7</td>\n",
       "      <td>8</td>\n",
       "      <td>8</td>\n",
       "      <td>20.990797+0.000000j</td>\n",
       "    </tr>\n",
       "    <tr>\n",
       "      <th>Perła</th>\n",
       "      <td>6</td>\n",
       "      <td>3</td>\n",
       "      <td>4</td>\n",
       "      <td>18.023007-0.166348j</td>\n",
       "    </tr>\n",
       "    <tr>\n",
       "      <th>Fortuna</th>\n",
       "      <td>5</td>\n",
       "      <td>3</td>\n",
       "      <td>4</td>\n",
       "      <td>15.013804-0.166348j</td>\n",
       "    </tr>\n",
       "    <tr>\n",
       "      <th>Heineken</th>\n",
       "      <td>3</td>\n",
       "      <td>4</td>\n",
       "      <td>5</td>\n",
       "      <td>8.986196-0.166348j</td>\n",
       "    </tr>\n",
       "  </tbody>\n",
       "</table>\n",
       "</div>"
      ],
      "text/plain": [
       "          Koszt  Smak  Procent               Wyniki\n",
       "Imię                                               \n",
       "Harnaś        9     2        3  27.059818-0.166348j\n",
       "Tyskie        7     8        8  20.990797+0.000000j\n",
       "Perła         6     3        4  18.023007-0.166348j\n",
       "Fortuna       5     3        4  15.013804-0.166348j\n",
       "Heineken      3     4        5   8.986196-0.166348j"
      ]
     },
     "execution_count": 138,
     "metadata": {},
     "output_type": "execute_result"
    }
   ],
   "source": [
    "result_dataframe = apply_ranking_to_dataframe(only_good_values, w)\n",
    "result_dataframe"
   ]
  },
  {
   "cell_type": "code",
   "execution_count": null,
   "metadata": {},
   "outputs": [],
   "source": []
  }
 ],
 "metadata": {
  "kernelspec": {
   "display_name": "Python 3",
   "language": "python",
   "name": "python3"
  },
  "language_info": {
   "codemirror_mode": {
    "name": "ipython",
    "version": 3
   },
   "file_extension": ".py",
   "mimetype": "text/x-python",
   "name": "python",
   "nbconvert_exporter": "python",
   "pygments_lexer": "ipython3",
   "version": "3.8.5"
  }
 },
 "nbformat": 4,
 "nbformat_minor": 4
}